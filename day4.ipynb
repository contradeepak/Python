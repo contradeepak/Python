{
 "cells": [
  {
   "cell_type": "code",
   "execution_count": 10,
   "id": "828a5f48",
   "metadata": {},
   "outputs": [
    {
     "name": "stdout",
     "output_type": "stream",
     "text": [
      "95\n",
      "95\n",
      "95\n"
     ]
    }
   ],
   "source": [
    "student_records = {}\n",
    "no_of_students = 3\n",
    "\n",
    "for i in range(no_of_students):\n",
    "    name = input(\"Enter the student's name: \")\n",
    "    marks = int(input(\"Enter the student's marks: \"))\n",
    "    student_records[name] = marks\n",
    "\n",
    "\n",
    "# print only student names\n",
    "for student in student_records.values():\n",
    "    print(marks)\n"
   ]
  },
  {
   "cell_type": "code",
   "execution_count": 11,
   "id": "9e98bc18",
   "metadata": {},
   "outputs": [
    {
     "name": "stdout",
     "output_type": "stream",
     "text": [
      "Names (keys):\n",
      "Alice\n",
      "Bob\n",
      "Charlie\n",
      "\n",
      "Marks (values):\n",
      "90\n",
      "85\n",
      "95\n"
     ]
    }
   ],
   "source": [
    "student_records = {\"Alice\": 90, \"Bob\": 85, \"Charlie\": 95}\n",
    "\n",
    "print(\"Names (keys):\")\n",
    "for name in student_records.keys():\n",
    "    print(name)\n",
    "\n",
    "print(\"\\nMarks (values):\")\n",
    "for marks in student_records.values():\n",
    "    print(marks)\n"
   ]
  },
  {
   "cell_type": "code",
   "execution_count": 14,
   "id": "f3287374",
   "metadata": {},
   "outputs": [
    {
     "ename": "ValueError",
     "evalue": "invalid literal for int() with base 10: 'Rajpal'",
     "output_type": "error",
     "traceback": [
      "\u001b[31m---------------------------------------------------------------------------\u001b[39m",
      "\u001b[31mValueError\u001b[39m                                Traceback (most recent call last)",
      "\u001b[36mCell\u001b[39m\u001b[36m \u001b[39m\u001b[32mIn[14]\u001b[39m\u001b[32m, line 6\u001b[39m\n\u001b[32m      4\u001b[39m \u001b[38;5;28;01mfor\u001b[39;00m i \u001b[38;5;129;01min\u001b[39;00m \u001b[38;5;28mrange\u001b[39m(no_of_students):\n\u001b[32m      5\u001b[39m     name = \u001b[38;5;28minput\u001b[39m(\u001b[33m\"\u001b[39m\u001b[33mEnter the student\u001b[39m\u001b[33m'\u001b[39m\u001b[33ms name: \u001b[39m\u001b[33m\"\u001b[39m)\n\u001b[32m----> \u001b[39m\u001b[32m6\u001b[39m     marks = \u001b[38;5;28;43mint\u001b[39;49m\u001b[43m(\u001b[49m\u001b[38;5;28;43minput\u001b[39;49m\u001b[43m(\u001b[49m\u001b[33;43m\"\u001b[39;49m\u001b[33;43mEnter the student\u001b[39;49m\u001b[33;43m'\u001b[39;49m\u001b[33;43ms marks: \u001b[39;49m\u001b[33;43m\"\u001b[39;49m\u001b[43m)\u001b[49m\u001b[43m)\u001b[49m\n\u001b[32m      7\u001b[39m     student_records[name] = marks\n\u001b[32m      9\u001b[39m \u001b[38;5;66;03m# ✅ Print only student names\u001b[39;00m\n",
      "\u001b[31mValueError\u001b[39m: invalid literal for int() with base 10: 'Rajpal'"
     ]
    }
   ],
   "source": [
    "student_records = {}\n",
    "no_of_students = 3\n",
    "\n",
    "for i in range(no_of_students):\n",
    "    name = input(\"Enter the student's name: \")\n",
    "    marks = int(input(\"Enter the student's marks: \"))\n",
    "    student_records[name] = marks\n",
    "\n",
    "# ✅ Print only student names\n",
    "for student in student_records.values():\n",
    "    print(student)\n"
   ]
  },
  {
   "cell_type": "code",
   "execution_count": 15,
   "id": "ddd1029f",
   "metadata": {},
   "outputs": [
    {
     "ename": "ValueError",
     "evalue": "invalid literal for int() with base 10: 'Rajpal'",
     "output_type": "error",
     "traceback": [
      "\u001b[31m---------------------------------------------------------------------------\u001b[39m",
      "\u001b[31mValueError\u001b[39m                                Traceback (most recent call last)",
      "\u001b[36mCell\u001b[39m\u001b[36m \u001b[39m\u001b[32mIn[15]\u001b[39m\u001b[32m, line 6\u001b[39m\n\u001b[32m      4\u001b[39m \u001b[38;5;28;01mfor\u001b[39;00m i \u001b[38;5;129;01min\u001b[39;00m \u001b[38;5;28mrange\u001b[39m(no_of_students):\n\u001b[32m      5\u001b[39m     name = \u001b[38;5;28minput\u001b[39m(\u001b[33m\"\u001b[39m\u001b[33mEnter the student\u001b[39m\u001b[33m'\u001b[39m\u001b[33ms name: \u001b[39m\u001b[33m\"\u001b[39m)\n\u001b[32m----> \u001b[39m\u001b[32m6\u001b[39m     marks = \u001b[38;5;28;43mint\u001b[39;49m\u001b[43m(\u001b[49m\u001b[38;5;28;43minput\u001b[39;49m\u001b[43m(\u001b[49m\u001b[33;43m\"\u001b[39;49m\u001b[33;43mEnter the student\u001b[39;49m\u001b[33;43m'\u001b[39;49m\u001b[33;43ms marks: \u001b[39;49m\u001b[33;43m\"\u001b[39;49m\u001b[43m)\u001b[49m\u001b[43m)\u001b[49m\n\u001b[32m      7\u001b[39m     student_records[name] = marks\n\u001b[32m      9\u001b[39m \u001b[38;5;66;03m# ✅ Print only student names\u001b[39;00m\n",
      "\u001b[31mValueError\u001b[39m: invalid literal for int() with base 10: 'Rajpal'"
     ]
    }
   ],
   "source": [
    "student_records = {}\n",
    "no_of_students = 3\n",
    "\n",
    "for i in range(no_of_students):\n",
    "    name = input(\"Enter the student's name: \")\n",
    "    marks = int(input(\"Enter the student's marks: \"))\n",
    "    student_records[name] = marks\n",
    "\n",
    "# ✅ Print only student names\n",
    "for student in student_records.keys():\n",
    "    print(student)\n"
   ]
  },
  {
   "cell_type": "code",
   "execution_count": 16,
   "id": "6d6d7534",
   "metadata": {},
   "outputs": [
    {
     "ename": "ValueError",
     "evalue": "invalid literal for int() with base 10: 'Rajpal'",
     "output_type": "error",
     "traceback": [
      "\u001b[31m---------------------------------------------------------------------------\u001b[39m",
      "\u001b[31mValueError\u001b[39m                                Traceback (most recent call last)",
      "\u001b[36mCell\u001b[39m\u001b[36m \u001b[39m\u001b[32mIn[16]\u001b[39m\u001b[32m, line 6\u001b[39m\n\u001b[32m      4\u001b[39m \u001b[38;5;28;01mfor\u001b[39;00m i \u001b[38;5;129;01min\u001b[39;00m \u001b[38;5;28mrange\u001b[39m(no_of_students):\n\u001b[32m      5\u001b[39m     name = \u001b[38;5;28minput\u001b[39m(\u001b[33m\"\u001b[39m\u001b[33mEnter the student\u001b[39m\u001b[33m'\u001b[39m\u001b[33ms name: \u001b[39m\u001b[33m\"\u001b[39m)\n\u001b[32m----> \u001b[39m\u001b[32m6\u001b[39m     marks = \u001b[38;5;28;43mint\u001b[39;49m\u001b[43m(\u001b[49m\u001b[38;5;28;43minput\u001b[39;49m\u001b[43m(\u001b[49m\u001b[33;43m\"\u001b[39;49m\u001b[33;43mEnter the student\u001b[39;49m\u001b[33;43m'\u001b[39;49m\u001b[33;43ms marks: \u001b[39;49m\u001b[33;43m\"\u001b[39;49m\u001b[43m)\u001b[49m\u001b[43m)\u001b[49m\n\u001b[32m      7\u001b[39m     student_records[name] = marks\n\u001b[32m      9\u001b[39m \u001b[38;5;28mprint\u001b[39m(student_records)\n",
      "\u001b[31mValueError\u001b[39m: invalid literal for int() with base 10: 'Rajpal'"
     ]
    }
   ],
   "source": [
    "student_records = {}\n",
    "no_of_students = 3\n",
    "\n",
    "for i in range(no_of_students):\n",
    "    name = input(\"Enter the student's name: \")\n",
    "    marks = int(input(\"Enter the student's marks: \"))\n",
    "    student_records[name] = marks\n",
    "\n",
    "print(student_records)\n"
   ]
  },
  {
   "cell_type": "code",
   "execution_count": 17,
   "id": "c9b45c75",
   "metadata": {},
   "outputs": [
    {
     "data": {
      "text/plain": [
       "{'Deepak': 98, 'Rajpal': 98, 'Baje': 77}"
      ]
     },
     "execution_count": 17,
     "metadata": {},
     "output_type": "execute_result"
    }
   ],
   "source": [
    "student_records = {}\n",
    "no_of_students = 3\n",
    "\n",
    "for i in range(no_of_students):\n",
    "    name = input(\"Enter the student's name: \")\n",
    "    marks = int(input(\"Enter the student's marks: \"))\n",
    "    student_records[name] = marks\n",
    "\n",
    "student_records\n"
   ]
  },
  {
   "cell_type": "code",
   "execution_count": 18,
   "id": "a6d1af95",
   "metadata": {},
   "outputs": [
    {
     "name": "stdout",
     "output_type": "stream",
     "text": [
      "{'Deepak': 98, 'Baje': 96, 'Rajpal': 87}\n"
     ]
    }
   ],
   "source": [
    "student_records = {}\n",
    "no_of_students = 3\n",
    "\n",
    "for i in range(no_of_students):\n",
    "    name = input(\"Enter the student's name: \")\n",
    "    marks = int(input(\"Enter the student's marks: \"))\n",
    "    student_records[name] = marks\n",
    "\n",
    "print(student_records)\n"
   ]
  },
  {
   "cell_type": "code",
   "execution_count": 1,
   "id": "cc5a39a1",
   "metadata": {},
   "outputs": [
    {
     "name": "stdout",
     "output_type": "stream",
     "text": [
      "Deepak\n"
     ]
    }
   ],
   "source": [
    "print(\"Deepak\")"
   ]
  },
  {
   "cell_type": "code",
   "execution_count": 2,
   "id": "4d35fd8e",
   "metadata": {},
   "outputs": [],
   "source": [
    "def calc(x,y):\n",
    "    print(x+y)\n",
    "    print(x-y)\n",
    "    calc(10,30)"
   ]
  },
  {
   "cell_type": "code",
   "execution_count": null,
   "id": "b85f3732",
   "metadata": {},
   "outputs": [],
   "source": [
    "# def welcome_message(name):\n",
    "# print()\n",
    "\n",
    "def welcome_message(name):\n",
    "    print(f'Hi name )"
   ]
  },
  {
   "cell_type": "code",
   "execution_count": 3,
   "id": "622470a4",
   "metadata": {},
   "outputs": [],
   "source": [
    "def greet():\n",
    "    print(\"Hello, Welcome to Python\")\n",
    "    greet()"
   ]
  },
  {
   "cell_type": "code",
   "execution_count": 4,
   "id": "a83c7789",
   "metadata": {},
   "outputs": [
    {
     "name": "stdout",
     "output_type": "stream",
     "text": [
      "Sum: 8\n"
     ]
    }
   ],
   "source": [
    "def add(a,b):\n",
    "    return a+b\n",
    "result = add(5,3)\n",
    "print(\"Sum:\", result)\n",
    "    "
   ]
  },
  {
   "cell_type": "code",
   "execution_count": 5,
   "id": "45309011",
   "metadata": {},
   "outputs": [],
   "source": [
    "def greet(name=\"Guest\"):\n",
    "    print(\"Hello\",name)\n",
    "    greet(\"Deepak\")\n",
    "    greet()\n",
    "    "
   ]
  },
  {
   "cell_type": "code",
   "execution_count": 6,
   "id": "f03d788a",
   "metadata": {},
   "outputs": [],
   "source": [
    "def factorial(n):\n",
    "    fact = 1\n",
    "    for i in range(1, n+1):\n",
    "        fact *= i\n",
    "        return fact\n",
    "    \n",
    "    print(\"Factorial of 5:\", factorial(5))\n",
    "\n",
    "\n",
    "\n",
    "\n"
   ]
  },
  {
   "cell_type": "code",
   "execution_count": 9,
   "id": "f5935ff3",
   "metadata": {},
   "outputs": [],
   "source": [
    "def factorial(n):\n",
    "    fact = 1\n",
    "    for i in range(1, n+1):\n",
    "        fact *= i\n",
    "        return fact\n",
    "    \n",
    "    print(\"Factorial of 5:\", factorial(5))\n",
    "    "
   ]
  },
  {
   "cell_type": "code",
   "execution_count": 10,
   "id": "3f804192",
   "metadata": {},
   "outputs": [
    {
     "name": "stdout",
     "output_type": "stream",
     "text": [
      "x is greater than 5\n",
      "This line is always printed\n"
     ]
    }
   ],
   "source": [
    "x = 10\n",
    "if x > 5:\n",
    "    print(\"x is greater than 5\")\n",
    "    print(\"This line is always printed\")"
   ]
  },
  {
   "cell_type": "code",
   "execution_count": null,
   "id": "34ee04eb",
   "metadata": {},
   "outputs": [],
   "source": [
    "for i in range(3):\n",
    "print(\"Loop running\", i)\n",
    "print(\"Loop finished\")\n",
    "\n",
    "\n"
   ]
  }
 ],
 "metadata": {
  "kernelspec": {
   "display_name": "Python (venv)",
   "language": "python",
   "name": "venv"
  },
  "language_info": {
   "codemirror_mode": {
    "name": "ipython",
    "version": 3
   },
   "file_extension": ".py",
   "mimetype": "text/x-python",
   "name": "python",
   "nbconvert_exporter": "python",
   "pygments_lexer": "ipython3",
   "version": "3.13.5"
  }
 },
 "nbformat": 4,
 "nbformat_minor": 5
}
