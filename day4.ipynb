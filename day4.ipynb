{
 "cells": [
  {
   "cell_type": "code",
   "execution_count": 13,
   "id": "f31ba5df",
   "metadata": {},
   "outputs": [
    {
     "name": "stdout",
     "output_type": "stream",
     "text": [
      "c:\\Python\\venv\\Scripts\\python.exe\n"
     ]
    }
   ],
   "source": [
    "import sys\n",
    "print(sys.executable)"
   ]
  },
  {
   "cell_type": "code",
   "execution_count": 14,
   "id": "f25ab93c",
   "metadata": {},
   "outputs": [],
   "source": [
    "name = 'Deepak'"
   ]
  },
  {
   "cell_type": "code",
   "execution_count": 15,
   "id": "2bde0568",
   "metadata": {},
   "outputs": [
    {
     "name": "stdout",
     "output_type": "stream",
     "text": [
      "Deepak\n"
     ]
    }
   ],
   "source": [
    "print(name)"
   ]
  },
  {
   "cell_type": "code",
   "execution_count": 16,
   "id": "b026c678",
   "metadata": {},
   "outputs": [
    {
     "name": "stdout",
     "output_type": "stream",
     "text": [
      "['False', 'None', 'True', 'and', 'as', 'assert', 'async', 'await', 'break', 'class', 'continue', 'def', 'del', 'elif', 'else', 'except', 'finally', 'for', 'from', 'global', 'if', 'import', 'in', 'is', 'lambda', 'nonlocal', 'not', 'or', 'pass', 'raise', 'return', 'try', 'while', 'with', 'yield']\n"
     ]
    }
   ],
   "source": [
    "# KEYWORDS\n",
    "from keyword import kwlist\n",
    "print(kwlist)"
   ]
  },
  {
   "cell_type": "code",
   "execution_count": 17,
   "id": "427832ad",
   "metadata": {},
   "outputs": [
    {
     "ename": "SyntaxError",
     "evalue": "invalid decimal literal (4028983015.py, line 3)",
     "output_type": "error",
     "traceback": [
      "  \u001b[36mCell\u001b[39m\u001b[36m \u001b[39m\u001b[32mIn[17]\u001b[39m\u001b[32m, line 3\u001b[39m\n\u001b[31m    \u001b[39m\u001b[31m2variable = 30 # Invalid identifier (Cannot start with a number)\u001b[39m\n    ^\n\u001b[31mSyntaxError\u001b[39m\u001b[31m:\u001b[39m invalid decimal literal\n"
     ]
    }
   ],
   "source": [
    "my_variable = 10 # Valid identifier\n",
    "_variable = 20 # Valid identifier\n",
    "2variable = 30 # Invalid identifier (Cannot start with a number)\n",
    "class = 40    # Invalid identifier (Reserved keyword)"
   ]
  },
  {
   "cell_type": "code",
   "execution_count": null,
   "id": "e57d2fd8",
   "metadata": {},
   "outputs": [
    {
     "name": "stdout",
     "output_type": "stream",
     "text": [
      "18\n"
     ]
    }
   ],
   "source": [
    "a = int(input(\"Enter the number 1: \"))\n",
    "b = int(input(\"Enter the number 2: \"))\n",
    "print(a*b)"
   ]
  },
  {
   "cell_type": "code",
   "execution_count": null,
   "id": "a9fe559b",
   "metadata": {},
   "outputs": [
    {
     "name": "stdout",
     "output_type": "stream",
     "text": [
      "24\n"
     ]
    }
   ],
   "source": [
    "a = input(\"Enter the number 1: \")\n",
    "b = input(\"Enter the number 2: \")\n",
    "print(a+b)\n",
    "\n",
    "#Note : This is executing line by line, it gives 2 and 4 i.e. 24"
   ]
  },
  {
   "cell_type": "markdown",
   "id": "4966d459",
   "metadata": {},
   "source": [
    "# printing empty print function\n",
    "\n",
    "print()\n",
    "\n",
    "# printing some data in print function\n",
    "print(\"some data\")\n",
    "# printing more than one data in print function\n",
    "print(\"some data\", \"some data\")\n",
    "# Example for sep in print function\n",
    "day = 10\n",
    "mon = 12\n",
    "year = 2027\n",
    "print(day,mon,year)\n",
    "print(day,mon,year, sep=\"\")\n",
    "print(day,mon,year, sep=\"/\")\n",
    "print(day,mon,year, sep=\"_\")\n",
    "\n",
    "\n",
    "\n",
    "\n",
    "# Example for end  = \"\\n\"\n",
    "print(1)\n",
    "print(2,3)\n",
    "\n",
    "\n",
    "print(1, end=\"\")\n",
    "print(2,3)\n",
    "\n",
    "print(1, end='\\n')\n",
    "print(2,3)"
   ]
  },
  {
   "cell_type": "code",
   "execution_count": 2,
   "id": "736aed22",
   "metadata": {},
   "outputs": [
    {
     "name": "stdout",
     "output_type": "stream",
     "text": [
      "\n",
      "some data\n",
      "some data some data\n",
      "10 12 2027\n",
      "10122027\n",
      "10/12/2027\n",
      "10_12_2027\n",
      "1\n",
      "2 3\n",
      "12 3\n",
      "1\n",
      "2 3\n"
     ]
    }
   ],
   "source": [
    "# printing empty print function\n",
    "\n",
    "print()\n",
    "\n",
    "# printing some data in print function\n",
    "print(\"some data\")\n",
    "# printing more than one data in print function\n",
    "print(\"some data\", \"some data\")\n",
    "# Example for sep in print function\n",
    "day = 10\n",
    "mon = 12\n",
    "year = 2027\n",
    "print(day,mon,year)\n",
    "print(day,mon,year, sep=\"\")\n",
    "print(day,mon,year, sep=\"/\")\n",
    "print(day,mon,year, sep=\"_\")\n",
    "\n",
    "\n",
    "\n",
    "\n",
    "# Example for end  = \"\\n\"\n",
    "print(1)\n",
    "print(2,3)\n",
    "\n",
    "\n",
    "print(1, end=\"\")\n",
    "print(2,3)\n",
    "\n",
    "print(1, end='\\n')\n",
    "print(2,3)"
   ]
  },
  {
   "cell_type": "code",
   "execution_count": 3,
   "id": "75aa8181",
   "metadata": {},
   "outputs": [
    {
     "name": "stdout",
     "output_type": "stream",
     "text": [
      "deepak34\n"
     ]
    }
   ],
   "source": [
    "print('deepak34')"
   ]
  },
  {
   "cell_type": "code",
   "execution_count": 4,
   "id": "3f346098",
   "metadata": {},
   "outputs": [
    {
     "name": "stdout",
     "output_type": "stream",
     "text": [
      "b'128'\n",
      "<class 'bytes'>\n"
     ]
    }
   ],
   "source": [
    "data = b'128'\n",
    "print(data)\n",
    "print(type(data))"
   ]
  },
  {
   "cell_type": "code",
   "execution_count": 5,
   "id": "0f845942",
   "metadata": {},
   "outputs": [
    {
     "name": "stdout",
     "output_type": "stream",
     "text": [
      "{1: 2}\n",
      "<class 'dict'>\n"
     ]
    }
   ],
   "source": [
    "data = {1:2}\n",
    "print(data)\n",
    "print(type(data))"
   ]
  },
  {
   "cell_type": "code",
   "execution_count": 6,
   "id": "8708047b",
   "metadata": {},
   "outputs": [
    {
     "name": "stdout",
     "output_type": "stream",
     "text": [
      "['rice', 'ragi', 'wheat', 'dhal']\n",
      "2360064429888\n",
      "['rice', 'ragi', 'wheat', 'dhal', 'oil']\n",
      "2360064429888\n"
     ]
    }
   ],
   "source": [
    "grocery_list = ['rice', 'ragi', 'wheat', 'dhal']\n",
    "print(grocery_list)\n",
    "print(id(grocery_list))\n",
    "grocery_list.append('oil')\n",
    "print(grocery_list)\n",
    "print(id(grocery_list))\n"
   ]
  },
  {
   "cell_type": "code",
   "execution_count": 7,
   "id": "b3697b80",
   "metadata": {},
   "outputs": [
    {
     "name": "stdout",
     "output_type": "stream",
     "text": [
      "Deepak\n",
      "2360065741648\n",
      "DeepakKumar\n",
      "2360065833968\n"
     ]
    }
   ],
   "source": [
    "name  = \"Deepak\"\n",
    "print(name)\n",
    "print(id(name))\n",
    "name  = \"DeepakKumar\"\n",
    "print(name)\n",
    "print(id(name))"
   ]
  },
  {
   "cell_type": "code",
   "execution_count": 8,
   "id": "f5b1196d",
   "metadata": {},
   "outputs": [
    {
     "name": "stdout",
     "output_type": "stream",
     "text": [
      "{1: 2}\n",
      "<class 'dict'>\n"
     ]
    }
   ],
   "source": [
    "data = {1:2}\n",
    "print(data)\n",
    "print(type(data))"
   ]
  },
  {
   "cell_type": "code",
   "execution_count": 9,
   "id": "8262f6b4",
   "metadata": {},
   "outputs": [
    {
     "name": "stdout",
     "output_type": "stream",
     "text": [
      "(10+16j)\n",
      "<class 'complex'>\n"
     ]
    }
   ],
   "source": [
    "data = {1, 2, 3, 4, 5, 6} # Set\n",
    "data = {'course':\"Python\"} # Dictionary\n",
    "data = \"Python Notes\"  # String\n",
    "data = 10 + 16j # Complex Number\n",
    "\n",
    "print(data)\n",
    "print(type(data))"
   ]
  },
  {
   "cell_type": "markdown",
   "id": "d7a077ee",
   "metadata": {},
   "source": [
    "a=10\n",
    "a+=10\n",
    "print(a)"
   ]
  },
  {
   "cell_type": "code",
   "execution_count": 10,
   "id": "4bb984e7",
   "metadata": {},
   "outputs": [
    {
     "name": "stdout",
     "output_type": "stream",
     "text": [
      "20\n"
     ]
    }
   ],
   "source": [
    "a=10\n",
    "a+=10\n",
    "print(a)"
   ]
  },
  {
   "cell_type": "code",
   "execution_count": 12,
   "id": "887dbafe",
   "metadata": {},
   "outputs": [
    {
     "name": "stdout",
     "output_type": "stream",
     "text": [
      "False\n",
      "True\n",
      "False\n",
      "True\n"
     ]
    }
   ],
   "source": [
    "name = \"Python\"                     \n",
    "print('p' in name)\n",
    "print('z' not in name)\n",
    "print('p' in name)\n",
    "print('t' in name)"
   ]
  }
 ],
 "metadata": {
  "kernelspec": {
   "display_name": "Python (venv)",
   "language": "python",
   "name": "venv"
  },
  "language_info": {
   "codemirror_mode": {
    "name": "ipython",
    "version": 3
   },
   "file_extension": ".py",
   "mimetype": "text/x-python",
   "name": "python",
   "nbconvert_exporter": "python",
   "pygments_lexer": "ipython3",
   "version": "3.13.5"
  }
 },
 "nbformat": 4,
 "nbformat_minor": 5
}
